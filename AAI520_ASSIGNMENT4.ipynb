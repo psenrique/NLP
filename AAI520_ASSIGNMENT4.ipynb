{
  "nbformat": 4,
  "nbformat_minor": 0,
  "metadata": {
    "colab": {
      "provenance": []
    },
    "kernelspec": {
      "name": "python3",
      "display_name": "Python 3"
    },
    "language_info": {
      "name": "python"
    }
  },
  "cells": [
    {
      "cell_type": "code",
      "execution_count": 1,
      "metadata": {
        "id": "nZJNCsqGiN5v"
      },
      "outputs": [],
      "source": [
        "#Import libraries\n",
        "import pandas as pd\n",
        "import spacy\n",
        "from sklearn.feature_extraction.text import TfidfVectorizer\n",
        "from collections import Counter\n",
        "from sklearn.preprocessing import LabelEncoder\n",
        "from sklearn.svm import SVC\n",
        "from sklearn.naive_bayes import MultinomialNB\n",
        "from sklearn.ensemble import GradientBoostingClassifier\n",
        "from sklearn.metrics import accuracy_score, precision_score, recall_score, f1_score, confusion_matrix, roc_auc_score, ConfusionMatrixDisplay\n",
        "import matplotlib.pyplot as plt"
      ]
    },
    {
      "cell_type": "code",
      "source": [
        "#Connect to Google Drive\n",
        "from google.colab import drive\n",
        "drive.mount('/content/drive')\n",
        "\n",
        "import warnings\n",
        "warnings.filterwarnings(\"ignore\")\n",
        "\n",
        "# Load the English model\n",
        "nlp = spacy.load(\"en_core_web_sm\")"
      ],
      "metadata": {
        "colab": {
          "base_uri": "https://localhost:8080/"
        },
        "id": "ROakcnTLkD_z",
        "outputId": "8f7db57f-6222-46a1-d1ba-8dec655590c6"
      },
      "execution_count": 2,
      "outputs": [
        {
          "output_type": "stream",
          "name": "stdout",
          "text": [
            "Mounted at /content/drive\n"
          ]
        }
      ]
    },
    {
      "cell_type": "code",
      "source": [
        "#Load training and testing dataset and perform initial data exploration on training data\n",
        "train_data = pd.read_excel('/content/drive/MyDrive/AAI520/MODULE4/Legal_Sentences_For_Training_With_BERT_With_Label.xlsx')\n",
        "test_data = pd.read_excel('/content/drive/MyDrive/AAI520/MODULE4/Testing_Set_Legal_Sentences.xlsx')\n",
        "test_data.rename(columns = {'sentence':'Phrase', 'label':'Label'}, inplace = True)\n",
        "print(train_data.sample(6))\n",
        "print('\\n')\n",
        "print(train_data.info())\n",
        "print('\\n')\n",
        "print('Sentiment Distribution: \\n', train_data['Label'].value_counts())"
      ],
      "metadata": {
        "colab": {
          "base_uri": "https://localhost:8080/"
        },
        "id": "NF89_C6zkHem",
        "outputId": "463a02fd-ca55-4391-9edd-9f257d8db3bc"
      },
      "execution_count": 3,
      "outputs": [
        {
          "output_type": "stream",
          "name": "stdout",
          "text": [
            "      ID                                             Phrase  Sentiment  Label\n",
            "300  301              It promotes the laws deterrent effect         -1      0\n",
            "210  211  the trial court improperly denied his for-caus...         -1      0\n",
            "516  517        they are in harmony with our holding today.          1      2\n",
            "146  147  recklessness with respect to the harmful conse...         -1      0\n",
            "127  128  the cited report describes many of these measu...         -1      0\n",
            "101  102           the Court today reviews a case as tragic          0      1\n",
            "\n",
            "\n",
            "<class 'pandas.core.frame.DataFrame'>\n",
            "RangeIndex: 576 entries, 0 to 575\n",
            "Data columns (total 4 columns):\n",
            " #   Column     Non-Null Count  Dtype \n",
            "---  ------     --------------  ----- \n",
            " 0   ID         576 non-null    int64 \n",
            " 1   Phrase     576 non-null    object\n",
            " 2   Sentiment  576 non-null    int64 \n",
            " 3   Label      576 non-null    int64 \n",
            "dtypes: int64(3), object(1)\n",
            "memory usage: 18.1+ KB\n",
            "None\n",
            "\n",
            "\n",
            "Sentiment Distribution: \n",
            " 0    282\n",
            "2    172\n",
            "1    122\n",
            "Name: Label, dtype: int64\n"
          ]
        }
      ]
    },
    {
      "cell_type": "code",
      "source": [
        "#Preprocess the data\n",
        "#tokenization, lowercase, and remove stop words and punctuation\n",
        "def clean (data):\n",
        "  data['Phrase'] = data['Phrase'].astype(str)\n",
        "  df = []\n",
        "  for i in data['Phrase']:\n",
        "    doc = nlp(i)\n",
        "    sw = [token.text for token in doc if token.is_stop != True and token.is_punct != True]\n",
        "    text = ' '.join([str(elem) for elem in sw])\n",
        "    text_low = text.lower()\n",
        "    df.append(text_low)\n",
        "  data['Phrase'] = df\n",
        "  return (data)\n",
        "\n",
        "clean(train_data)\n",
        "clean(test_data)\n",
        "print(train_data.sample(5))"
      ],
      "metadata": {
        "id": "YLoBdbfqnOYo",
        "colab": {
          "base_uri": "https://localhost:8080/"
        },
        "outputId": "123b523f-dc8e-49e3-fd6b-89c157bfd68a"
      },
      "execution_count": 4,
      "outputs": [
        {
          "output_type": "stream",
          "name": "stdout",
          "text": [
            "      ID                                             Phrase  Sentiment  Label\n",
            "527  528                                promote respect law          1      2\n",
            "435  436       participants course justifiably reimprisoned          1      2\n",
            "236  237  having completed arduous detour question agree...         -1      0\n",
            "99   100  jurys deadlock lesser included offense justifi...          1      2\n",
            "350  351                             s broad ban possession          0      1\n"
          ]
        }
      ]
    },
    {
      "cell_type": "code",
      "source": [
        "#Semantic analysis\n",
        "#Keyword extraction using TF-IDF\n",
        "vectorizer = TfidfVectorizer(ngram_range=(1,1))\n",
        "x_train = vectorizer.fit_transform(train_data['Phrase'])\n",
        "\n",
        "#create dictionary with tfidf values for every phrase\n",
        "dict_of_tokens={i[1]:i[0] for i in vectorizer.vocabulary_.items()}\n",
        "tfidf_vectors = []\n",
        "for row in x_train:\n",
        "  tfidf_vectors.append({dict_of_tokens[column]:value for (column,value) in zip(row.indices,row.data)})\n",
        "\n",
        "#Sort keywords in descending order\n",
        "doc_sorted_tfidfs =[]\n",
        "for dn in tfidf_vectors:\n",
        "  newD = sorted(dn.items(), key=lambda x: x[1], reverse=True)\n",
        "  newD = dict(newD)\n",
        "  doc_sorted_tfidfs.append(newD)\n",
        "\n",
        "print('Keywords from first 5 phrases:')\n",
        "for i in range(0,6):\n",
        "  print( doc_sorted_tfidfs[i])"
      ],
      "metadata": {
        "colab": {
          "base_uri": "https://localhost:8080/"
        },
        "id": "pM8PiS0pA4BB",
        "outputId": "402fcaf1-4683-4e92-bbab-2228824f07ca"
      },
      "execution_count": 5,
      "outputs": [
        {
          "output_type": "stream",
          "name": "stdout",
          "text": [
            "Keywords from first 5 phrases:\n",
            "{'surplusage': 0.7447746909102526, 'getting': 0.6673160119310322}\n",
            "{'existing': 0.449643664850579, 'bivens': 0.449643664850579, 'narrow': 0.449643664850579, 'scope': 0.4222883522927421, 'suggested': 0.40287944915450863, 'court': 0.2298312880050527}\n",
            "{'grooming': 0.3276999529307401, 'corrections': 0.3276999529307401, 'department': 0.3276999529307401, 'arkansas': 0.3276999529307401, 'beard': 0.3276999529307401, 'shaving': 0.3276999529307401, 'objection': 0.3276999529307401, 'clashes': 0.30776342243255606, 'policy': 0.2936182289337218, 'petitioners': 0.2595365049367035}\n",
            "{'clashes': 0.7472716016417047, 'result': 0.6645187381705963}\n",
            "{'seizures': 0.3593044220789747, 'determined': 0.3593044220789747, 'duration': 0.3593044220789747, 'context': 0.3374451465287464, 'traffic': 0.3374451465287464, 'inquiries': 0.3374451465287464, 'tolerable': 0.32193574370509664, 'stop': 0.3000764681548684, 'police': 0.2782171926046401}\n",
            "{'inconsistency': 0.3742502801533488, 'resolve': 0.3742502801533488, 'verdicts': 0.351481732103517, 'apparent': 0.351481732103517, 'retrial': 0.351481732103517, 'tolerable': 0.33532719017448326, 'jurys': 0.32279675397045765, 'error': 0.28387366399159203, 'trial': 0.22809845604612228}\n"
          ]
        }
      ]
    },
    {
      "cell_type": "code",
      "source": [
        "#Sentiment Analysis\n",
        "#Label 0 = negative sentiment, 1 = neutral, 2 = positive\n",
        "train_data['Label'] = train_data['Label'].replace(0,'negative')\n",
        "train_data['Label'] = train_data['Label'].replace(1,'neutral')\n",
        "train_data['Label'] = train_data['Label'].replace(2,'positive')\n",
        "test_data['Label'] = test_data['Label'].replace(0,'negative')\n",
        "test_data['Label'] = test_data['Label'].replace(1,'neutral')\n",
        "test_data['Label'] = test_data['Label'].replace(2,'positive')\n",
        "\n",
        "label_encoder = LabelEncoder()\n",
        "y_train = label_encoder.fit_transform(train_data['Label'])\n",
        "y_test = label_encoder.transform(test_data['Label'])\n",
        "x_test = vectorizer.transform(test_data['Phrase'])"
      ],
      "metadata": {
        "id": "Q3ufJlQtDBK4"
      },
      "execution_count": 6,
      "outputs": []
    },
    {
      "cell_type": "code",
      "source": [
        "#SVM Classifier\n",
        "svm = SVC(kernel='rbf', C=1, probability=True, random_state=42)\n",
        "svm.fit(x_train, y_train)\n",
        "y_pred_svm = svm.predict(x_test)"
      ],
      "metadata": {
        "id": "99wAqVa0Nah0"
      },
      "execution_count": 7,
      "outputs": []
    },
    {
      "cell_type": "code",
      "source": [
        "#Naive Bayes Classifier\n",
        "mnb = MultinomialNB(alpha=1)\n",
        "mnb.fit(x_train, y_train)\n",
        "y_pred_mnb = mnb.predict(x_test)"
      ],
      "metadata": {
        "id": "dk7p1MEtNb4y"
      },
      "execution_count": 8,
      "outputs": []
    },
    {
      "cell_type": "code",
      "source": [
        "#Gradient Boosting Classifier\n",
        "gbc = GradientBoostingClassifier(learning_rate=0.1, n_estimators=500)\n",
        "gbc.fit(x_train, y_train)\n",
        "y_pred_gbc = gbc.predict(x_test)"
      ],
      "metadata": {
        "id": "PUB8PvlVNdvW"
      },
      "execution_count": 9,
      "outputs": []
    },
    {
      "cell_type": "code",
      "source": [
        "#Evaluation function\n",
        "def evaluate(y_test, y_pred, auc,cmc):\n",
        "  accuracy_tfidf = accuracy_score(y_test, y_pred)\n",
        "  precision_tfidf = precision_score(y_test, y_pred, average='weighted')\n",
        "  recall_tfidf = recall_score(y_test, y_pred, average='weighted')\n",
        "  f1_score_tfidf = f1_score(y_test, y_pred, average='weighted')\n",
        "  auc_roc_tfidf = roc_auc_score(y_test, auc, multi_class='ovo', average='macro')\n",
        "  print('Performance Evaluation:')\n",
        "  print(\"Accuracy:\", accuracy_tfidf)\n",
        "  print(\"Precision:\", precision_tfidf)\n",
        "  print(\"Recall:\", recall_tfidf)\n",
        "  print(\"F1 Score:\", f1_score_tfidf)\n",
        "  print(\"AUC-ROC Score:\", auc_roc_tfidf)\n",
        "\n",
        "  confusion_matrix_tfidf = confusion_matrix(y_test, y_pred)\n",
        "  disp = ConfusionMatrixDisplay(confusion_matrix=confusion_matrix_tfidf, display_labels=cmc)\n",
        "  disp.plot()\n",
        "  plt.show()"
      ],
      "metadata": {
        "id": "UrnUeHUyNND0"
      },
      "execution_count": 10,
      "outputs": []
    },
    {
      "cell_type": "code",
      "source": [
        "#Evaluate SVM model\n",
        "evaluate(y_test, y_pred_svm, svm.predict_proba(x_test), svm.classes_)"
      ],
      "metadata": {
        "colab": {
          "base_uri": "https://localhost:8080/",
          "height": 553
        },
        "id": "LhLZueAjQ2ED",
        "outputId": "d56fb159-2e73-4302-83f7-5f2b33ff9372"
      },
      "execution_count": 11,
      "outputs": [
        {
          "output_type": "stream",
          "name": "stdout",
          "text": [
            "Performance Evaluation:\n",
            "Accuracy: 0.456\n",
            "Precision: 0.7480058701235172\n",
            "Recall: 0.456\n",
            "F1 Score: 0.32014899201198443\n",
            "AUC-ROC Score: 0.6264213191184324\n"
          ]
        },
        {
          "output_type": "display_data",
          "data": {
            "text/plain": [
              "<Figure size 640x480 with 2 Axes>"
            ],
            "image/png": "[encoded data removed]"
          },
          "metadata": {}
        }
      ]
    },
    {
      "cell_type": "code",
      "source": [
        "#Evaluate Naive Bayes model\n",
        "evaluate(y_test, y_pred_mnb, mnb.predict_proba(x_test), mnb.classes_)"
      ],
      "metadata": {
        "colab": {
          "base_uri": "https://localhost:8080/",
          "height": 553
        },
        "id": "c2uQm3rcQ67K",
        "outputId": "df656014-5840-45d6-9563-7f5476c8bc5c"
      },
      "execution_count": 12,
      "outputs": [
        {
          "output_type": "stream",
          "name": "stdout",
          "text": [
            "Performance Evaluation:\n",
            "Accuracy: 0.454\n",
            "Precision: 0.4867088036117382\n",
            "Recall: 0.454\n",
            "F1 Score: 0.3393948372009354\n",
            "AUC-ROC Score: 0.6149346996772675\n"
          ]
        },
        {
          "output_type": "display_data",
          "data": {
            "text/plain": [
              "<Figure size 640x480 with 2 Axes>"
            ],
            "image/png": "[encoded data removed]"
          },
          "metadata": {}
        }
      ]
    },
    {
      "cell_type": "code",
      "source": [
        "#Evaluate Gradient Boosting model\n",
        "evaluate(y_test, y_pred_gbc, gbc.predict_proba(x_test), gbc.classes_)"
      ],
      "metadata": {
        "colab": {
          "base_uri": "https://localhost:8080/",
          "height": 553
        },
        "id": "YzT3A8-MQ-cu",
        "outputId": "5c9fe56b-1a58-4307-a94b-bc38d93bda8d"
      },
      "execution_count": 13,
      "outputs": [
        {
          "output_type": "stream",
          "name": "stdout",
          "text": [
            "Performance Evaluation:\n",
            "Accuracy: 0.464\n",
            "Precision: 0.46174866232117784\n",
            "Recall: 0.464\n",
            "F1 Score: 0.41547537640114207\n",
            "AUC-ROC Score: 0.5906213532506078\n"
          ]
        },
        {
          "output_type": "display_data",
          "data": {
            "text/plain": [
              "<Figure size 640x480 with 2 Axes>"
            ],
            "image/png": "[encoded data removed]"
          },
          "metadata": {}
        }
      ]
    }
  ]
}